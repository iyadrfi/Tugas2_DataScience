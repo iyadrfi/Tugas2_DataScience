{
 "cells": [
  {
   "cell_type": "markdown",
   "id": "a5175a5b",
   "metadata": {},
   "source": [
    "# Week 2 Notebook 4 Pandas Wrangling\n",
    "\n",
    "Nama : Rafi Iyad Madani Chaidir\n",
    "NIM : E1E121038"
   ]
  },
  {
   "cell_type": "code",
   "execution_count": 1,
   "id": "1d31142e",
   "metadata": {},
   "outputs": [],
   "source": [
    "# We should always start with the import, although it may have been run above\n",
    "import pandas as pd"
   ]
  },
  {
   "cell_type": "code",
   "execution_count": 2,
   "id": "572732bd",
   "metadata": {},
   "outputs": [],
   "source": [
    "# read the data into a dataframe called irisdf\n",
    "irisdf = pd.read_csv('iris_csv.csv')"
   ]
  },
  {
   "cell_type": "markdown",
   "id": "fc2b96a2",
   "metadata": {},
   "source": [
    "**Q1. Missing Values**\n",
    "\n",
    "Check if there are any missing values in the `irisdf` data set."
   ]
  },
  {
   "cell_type": "code",
   "execution_count": 3,
   "id": "be778a34",
   "metadata": {},
   "outputs": [
    {
     "name": "stdout",
     "output_type": "stream",
     "text": [
      "sepallength    0\n",
      "sepalwidth     0\n",
      "petallength    0\n",
      "petalwidth     0\n",
      "class          0\n",
      "dtype: int64\n"
     ]
    }
   ],
   "source": [
    "# Q1 Answer\n",
    "\n",
    "missing_values = irisdf.isna().sum()\n",
    "print(missing_values)"
   ]
  },
  {
   "cell_type": "markdown",
   "id": "091bc4b8",
   "metadata": {},
   "source": [
    "**Q2. Find Duplicates**\n",
    "\n",
    "There are three duplicate rows, display the rows."
   ]
  },
  {
   "cell_type": "code",
   "execution_count": 4,
   "id": "94f44de5",
   "metadata": {
    "scrolled": true
   },
   "outputs": [
    {
     "name": "stdout",
     "output_type": "stream",
     "text": [
      "     sepallength  sepalwidth  petallength  petalwidth           class\n",
      "34           4.9         3.1          1.5         0.1     Iris-setosa\n",
      "37           4.9         3.1          1.5         0.1     Iris-setosa\n",
      "142          5.8         2.7          5.1         1.9  Iris-virginica\n"
     ]
    }
   ],
   "source": [
    "#Q2 Answer\n",
    "\n",
    "duplicate_rows = irisdf[irisdf.duplicated()]\n",
    "print(duplicate_rows)"
   ]
  },
  {
   "cell_type": "markdown",
   "id": "bb544404",
   "metadata": {},
   "source": [
    "**Q3. Calculate Mean**\n",
    "\n",
    "Find the mean `sepallength` and store it in a variable called `mean_sepallength`"
   ]
  },
  {
   "cell_type": "code",
   "execution_count": 6,
   "id": "d819a7c3",
   "metadata": {},
   "outputs": [
    {
     "name": "stdout",
     "output_type": "stream",
     "text": [
      "Mean Sepal Length: 5.843333333333334\n"
     ]
    }
   ],
   "source": [
    "#Q3 answer\n",
    "mean_sepallength = irisdf['sepallength'].mean()\n",
    "\n",
    "print(\"Mean Sepal Length:\", mean_sepallength)"
   ]
  },
  {
   "cell_type": "markdown",
   "id": "ef07ddcd",
   "metadata": {},
   "source": [
    "**Q4. Set Value**\n",
    "\n",
    "Set the `sepallength` of the row with index 34 to the mean value found."
   ]
  },
  {
   "cell_type": "code",
   "execution_count": 7,
   "id": "7ebcfda6",
   "metadata": {},
   "outputs": [
    {
     "name": "stdout",
     "output_type": "stream",
     "text": [
      "sepallength       5.843333\n",
      "sepalwidth             3.1\n",
      "petallength            1.5\n",
      "petalwidth             0.1\n",
      "class          Iris-setosa\n",
      "Name: 34, dtype: object\n"
     ]
    }
   ],
   "source": [
    "# Q4 Answer\n",
    "\n",
    "irisdf.at[34, 'sepallength'] = mean_sepallength\n",
    "\n",
    "print(irisdf.loc[34])"
   ]
  },
  {
   "cell_type": "code",
   "execution_count": 15,
   "id": "651d3cfe",
   "metadata": {},
   "outputs": [
    {
     "name": "stdout",
     "output_type": "stream",
     "text": [
      "Empty DataFrame\n",
      "Columns: [sepallength, sepalwidth, petallength, petalwidth, class]\n",
      "Index: []\n"
     ]
    }
   ],
   "source": [
    "duplicate_rows = irisdf[irisdf.duplicated()]\n",
    "print(duplicate_rows)"
   ]
  },
  {
   "cell_type": "markdown",
   "id": "7a81941b",
   "metadata": {},
   "source": [
    "**Q5. Drop Duplicates**\n",
    "\n",
    "Drop the rows with duplicates"
   ]
  },
  {
   "cell_type": "code",
   "execution_count": 8,
   "id": "0a73c615",
   "metadata": {},
   "outputs": [
    {
     "name": "stdout",
     "output_type": "stream",
     "text": [
      "     sepallength  sepalwidth  petallength  petalwidth           class\n",
      "0            5.1         3.5          1.4         0.2     Iris-setosa\n",
      "1            4.9         3.0          1.4         0.2     Iris-setosa\n",
      "2            4.7         3.2          1.3         0.2     Iris-setosa\n",
      "3            4.6         3.1          1.5         0.2     Iris-setosa\n",
      "4            5.0         3.6          1.4         0.2     Iris-setosa\n",
      "..           ...         ...          ...         ...             ...\n",
      "143          6.7         3.0          5.2         2.3  Iris-virginica\n",
      "144          6.3         2.5          5.0         1.9  Iris-virginica\n",
      "145          6.5         3.0          5.2         2.0  Iris-virginica\n",
      "146          6.2         3.4          5.4         2.3  Iris-virginica\n",
      "147          5.9         3.0          5.1         1.8  Iris-virginica\n",
      "\n",
      "[148 rows x 5 columns]\n"
     ]
    }
   ],
   "source": [
    "# Q5 answer\n",
    "irisdf = irisdf.drop_duplicates()\n",
    "\n",
    "irisdf = irisdf.reset_index(drop=True)\n",
    "\n",
    "print(irisdf)"
   ]
  },
  {
   "cell_type": "markdown",
   "id": "83b5eafa",
   "metadata": {},
   "source": [
    "**Q6. Set as NA**\n",
    "\n",
    "Set the `sepalwidth` of the row with index 34 to `pd.NA` (which is pandas for NULL value)"
   ]
  },
  {
   "cell_type": "code",
   "execution_count": 10,
   "id": "c1fff063",
   "metadata": {},
   "outputs": [],
   "source": [
    "# Q6 Answer\n",
    "irisdf.at[34, 'sepalwidth'] = pd.NA"
   ]
  },
  {
   "cell_type": "code",
   "execution_count": 11,
   "id": "0b7bf81b",
   "metadata": {},
   "outputs": [
    {
     "name": "stdout",
     "output_type": "stream",
     "text": [
      "sepallength       5.843333\n",
      "sepalwidth             NaN\n",
      "petallength            1.5\n",
      "petalwidth             0.1\n",
      "class          Iris-setosa\n",
      "Name: 34, dtype: object\n"
     ]
    }
   ],
   "source": [
    "print(irisdf.loc[34])"
   ]
  },
  {
   "cell_type": "markdown",
   "id": "ae4d3c50",
   "metadata": {},
   "source": [
    "**Q7. Find Rows with Missing Values**\n",
    "\n",
    "Find the rows with *any* NA values"
   ]
  },
  {
   "cell_type": "code",
   "execution_count": 12,
   "id": "ab9aa9e2",
   "metadata": {},
   "outputs": [
    {
     "name": "stdout",
     "output_type": "stream",
     "text": [
      "    sepallength  sepalwidth  petallength  petalwidth        class\n",
      "34     5.843333         NaN          1.5         0.1  Iris-setosa\n"
     ]
    }
   ],
   "source": [
    "# Q7 Answer\n",
    "\n",
    "rows_with_na = irisdf[irisdf.isna().any(axis=1)]\n",
    "print(rows_with_na)\n",
    "# Find the rows with any 'na' values, by row (axis = 1 indicates to check row by row)"
   ]
  },
  {
   "cell_type": "markdown",
   "id": "cb618855",
   "metadata": {},
   "source": [
    "**Q8. Drop Rows with Missing Values**\n",
    "\n",
    "Now drop the rows with missing values with the argument `inplace = True`"
   ]
  },
  {
   "cell_type": "code",
   "execution_count": 13,
   "id": "10b62b2f",
   "metadata": {},
   "outputs": [],
   "source": [
    "# Q8 answer\n",
    "irisdf.dropna(inplace=True)"
   ]
  },
  {
   "cell_type": "code",
   "execution_count": 14,
   "id": "51321256",
   "metadata": {},
   "outputs": [
    {
     "name": "stdout",
     "output_type": "stream",
     "text": [
      "Empty DataFrame\n",
      "Columns: [sepallength, sepalwidth, petallength, petalwidth, class]\n",
      "Index: []\n"
     ]
    }
   ],
   "source": [
    "rows_with_na = irisdf[irisdf.isna().any(axis=1)]\n",
    "print(rows_with_na)\n",
    "# Find the rows with any 'na' values, by row (axis = 1 indicates to check row by row)"
   ]
  }
 ],
 "metadata": {
  "kernelspec": {
   "display_name": "Python 3 (ipykernel)",
   "language": "python",
   "name": "python3"
  },
  "language_info": {
   "codemirror_mode": {
    "name": "ipython",
    "version": 3
   },
   "file_extension": ".py",
   "mimetype": "text/x-python",
   "name": "python",
   "nbconvert_exporter": "python",
   "pygments_lexer": "ipython3",
   "version": "3.11.4"
  }
 },
 "nbformat": 4,
 "nbformat_minor": 5
}
