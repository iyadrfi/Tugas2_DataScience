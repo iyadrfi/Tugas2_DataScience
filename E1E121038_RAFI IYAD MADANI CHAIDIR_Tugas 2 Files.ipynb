{
 "cells": [
  {
   "cell_type": "markdown",
   "id": "ec82ea03",
   "metadata": {},
   "source": [
    "## Exercise Week 2 Notebook 2 Files\n",
    "\n",
    "Nama : Rafi Iyad Madani Chaidir\n",
    "NIM : E1E121038"
   ]
  },
  {
   "cell_type": "markdown",
   "id": "35b9c07f",
   "metadata": {},
   "source": [
    "Write the code to open the 'invoices.csv' file for reading, and then print only the heading 'Invoice No' and the data for the invoice numbers.\n",
    "\n",
    "Use the following comments to guide you"
   ]
  },
  {
   "cell_type": "code",
   "execution_count": 24,
   "id": "10338cf1",
   "metadata": {},
   "outputs": [
    {
     "name": "stdout",
     "output_type": "stream",
     "text": [
      "<_io.TextIOWrapper name='invoices.csv' mode='r' encoding='cp1252'>\n",
      "Invoice No, Customer Name, Date, Invoice Amount\n",
      "\n",
      "I\n",
      "['13002', ' Lighthouse Entertainment', ' 13 Jan 2020', ' $45.60\\n']\n",
      " Lighthouse Entertainment\n",
      "['13003', ' Main Street News', ' 13 Jan 2020', ' $100.20\\n']\n",
      " Main Street News\n",
      "['13003', ' Lee Enterprise', ' 14 Jan 2020', ' $30.00\\n']\n",
      " Lee Enterprise\n",
      "['13004', ' Raju Store', ' 14 Jan 2020', ' $300.20\\n']\n",
      " Raju Store\n"
     ]
    }
   ],
   "source": [
    "# open the file for reading\n",
    "tugas = open(\"invoices.csv\")\n",
    "print(tugas)\n",
    "\n",
    "# read all the lines\n",
    "\n",
    "filetugas = tugas.readline()\n",
    "print(filetugas)\n",
    "\n",
    "# header is the first element in the list of lines\n",
    "header = filetugas[0]\n",
    "\n",
    "# use a split() function to separate the header names by the comma\n",
    "header = header.strip().split(',')\n",
    "\n",
    "# print the first element of the header names after splitting\n",
    "print(header[0])\n",
    "\n",
    "# use a for loop (with a slice starting at index 1) for the rest of the lines\n",
    "for line in tugas:\n",
    "        # split at the comma\n",
    "    parts = line.split(\",\")\n",
    "\n",
    "    print(parts)\n",
    "      # print the first element\n",
    "    print(parts[1])\n",
    "\n",
    "             \n",
    "    \n",
    "# close the file\n",
    "tugas.close()"
   ]
  }
 ],
 "metadata": {
  "kernelspec": {
   "display_name": "Python 3 (ipykernel)",
   "language": "python",
   "name": "python3"
  },
  "language_info": {
   "codemirror_mode": {
    "name": "ipython",
    "version": 3
   },
   "file_extension": ".py",
   "mimetype": "text/x-python",
   "name": "python",
   "nbconvert_exporter": "python",
   "pygments_lexer": "ipython3",
   "version": "3.11.4"
  }
 },
 "nbformat": 4,
 "nbformat_minor": 5
}
