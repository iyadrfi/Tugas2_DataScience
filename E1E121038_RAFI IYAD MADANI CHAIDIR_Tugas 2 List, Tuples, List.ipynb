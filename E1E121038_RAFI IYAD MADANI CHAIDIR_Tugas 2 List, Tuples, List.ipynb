{
 "cells": [
  {
   "cell_type": "markdown",
   "id": "132ec3b2",
   "metadata": {},
   "source": [
    "## Question Week 2 Notebook 1 Collections\n",
    "\n",
    "Nama : Rafi Iyad Madani Chaidir\n",
    "NIM : E1E121038"
   ]
  },
  {
   "cell_type": "markdown",
   "id": "0a3b5124",
   "metadata": {},
   "source": [
    "Create the list in the cell below:"
   ]
  },
  {
   "cell_type": "code",
   "execution_count": 4,
   "id": "d306157a",
   "metadata": {},
   "outputs": [
    {
     "name": "stdout",
     "output_type": "stream",
     "text": [
      "['Java', 'Python', 'C++', 'Kotlin']\n"
     ]
    }
   ],
   "source": [
    "languages = [\"Java\", \"Python\", \"C++\", \"Kotlin\"]\n",
    "print(languages)"
   ]
  },
  {
   "cell_type": "markdown",
   "id": "0f05eb07",
   "metadata": {},
   "source": [
    "Q1. Print the second element in the list using its index."
   ]
  },
  {
   "cell_type": "code",
   "execution_count": 10,
   "id": "521856c9",
   "metadata": {},
   "outputs": [
    {
     "name": "stdout",
     "output_type": "stream",
     "text": [
      "Python\n"
     ]
    }
   ],
   "source": [
    "print(languages[1])\n"
   ]
  },
  {
   "cell_type": "markdown",
   "id": "43bd83fa",
   "metadata": {},
   "source": [
    "Q2. Print the last element in the list."
   ]
  },
  {
   "cell_type": "code",
   "execution_count": 11,
   "id": "9e61dfa0",
   "metadata": {},
   "outputs": [
    {
     "name": "stdout",
     "output_type": "stream",
     "text": [
      "Kotlin\n"
     ]
    }
   ],
   "source": [
    "print(languages[-1])\n"
   ]
  },
  {
   "cell_type": "markdown",
   "id": "fe783228",
   "metadata": {},
   "source": [
    "Q3. Using slicing, print the elements \"Java\" and \"C++\""
   ]
  },
  {
   "cell_type": "code",
   "execution_count": 12,
   "id": "292c8ece",
   "metadata": {},
   "outputs": [
    {
     "name": "stdout",
     "output_type": "stream",
     "text": [
      "['Java', 'C++']\n"
     ]
    }
   ],
   "source": [
    "print(languages[:3:2])\n"
   ]
  },
  {
   "cell_type": "markdown",
   "id": "268c043b",
   "metadata": {},
   "source": [
    "Q4. Add the language \"R\" in the list so that it appears before \"Python\""
   ]
  },
  {
   "cell_type": "code",
   "execution_count": 13,
   "id": "b4b11178",
   "metadata": {},
   "outputs": [
    {
     "name": "stdout",
     "output_type": "stream",
     "text": [
      "['Java', 'R', 'Python', 'C++', 'Kotlin']\n"
     ]
    }
   ],
   "source": [
    "languages.insert(1, \"R\")\n",
    "print(languages)"
   ]
  },
  {
   "cell_type": "markdown",
   "id": "3b863ae0",
   "metadata": {},
   "source": [
    "Q5. Remove the last element in the list."
   ]
  },
  {
   "cell_type": "code",
   "execution_count": 16,
   "id": "ddba4bc9",
   "metadata": {},
   "outputs": [
    {
     "name": "stdout",
     "output_type": "stream",
     "text": [
      "['Java', 'R', 'Python']\n"
     ]
    }
   ],
   "source": [
    "languages.pop()\n",
    "print(languages)"
   ]
  },
  {
   "cell_type": "markdown",
   "id": "484b202d",
   "metadata": {},
   "source": [
    "Q6. Change the list to a tuple and run the cells for the rest of the commands that you have written. Which ones can execute without errors?\n"
   ]
  },
  {
   "cell_type": "code",
   "execution_count": 17,
   "id": "a7c36601",
   "metadata": {},
   "outputs": [
    {
     "name": "stdout",
     "output_type": "stream",
     "text": [
      "('Java', 'Python', 'C++', 'Kotlin')\n"
     ]
    }
   ],
   "source": [
    "languages = (\"Java\", \"Python\", \"C++\", \"Kotlin\")\n",
    "print(languages)"
   ]
  },
  {
   "cell_type": "code",
   "execution_count": 18,
   "id": "39030854",
   "metadata": {},
   "outputs": [
    {
     "name": "stdout",
     "output_type": "stream",
     "text": [
      "Python\n"
     ]
    }
   ],
   "source": [
    "print(languages[1])\n"
   ]
  },
  {
   "cell_type": "code",
   "execution_count": 19,
   "id": "cc4c5169",
   "metadata": {},
   "outputs": [
    {
     "name": "stdout",
     "output_type": "stream",
     "text": [
      "Kotlin\n"
     ]
    }
   ],
   "source": [
    "print(languages[-1])"
   ]
  },
  {
   "cell_type": "code",
   "execution_count": 20,
   "id": "0f8a8126",
   "metadata": {},
   "outputs": [
    {
     "name": "stdout",
     "output_type": "stream",
     "text": [
      "('Java', 'C++')\n"
     ]
    }
   ],
   "source": [
    "print(languages[:3:2])"
   ]
  },
  {
   "cell_type": "markdown",
   "id": "dd05ff9f",
   "metadata": {},
   "source": [
    "Q7. Change the list of a set and run the commands for the rest of the commands that you have written. Which ones can execute without errors?"
   ]
  },
  {
   "cell_type": "code",
   "execution_count": 24,
   "id": "1c34c340",
   "metadata": {},
   "outputs": [
    {
     "name": "stdout",
     "output_type": "stream",
     "text": [
      "{'C++', 'Kotlin', 'Java', 'Python'}\n"
     ]
    }
   ],
   "source": [
    "languages = {\"Java\", \"Python\", \"C++\", \"Kotlin\"}\n",
    "print(languages)"
   ]
  }
 ],
 "metadata": {
  "kernelspec": {
   "display_name": "Python 3 (ipykernel)",
   "language": "python",
   "name": "python3"
  },
  "language_info": {
   "codemirror_mode": {
    "name": "ipython",
    "version": 3
   },
   "file_extension": ".py",
   "mimetype": "text/x-python",
   "name": "python",
   "nbconvert_exporter": "python",
   "pygments_lexer": "ipython3",
   "version": "3.11.4"
  }
 },
 "nbformat": 4,
 "nbformat_minor": 5
}
